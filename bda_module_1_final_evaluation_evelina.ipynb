{
 "cells": [
  {
   "cell_type": "markdown",
   "metadata": {},
   "source": [
    "# CLASS CREATION: ONLINE SHOP "
   ]
  },
  {
   "cell_type": "code",
   "execution_count": null,
   "metadata": {},
   "outputs": [],
   "source": [
    "class OnlineShop:                                            #\"class\" la hemos utilizado para definir una nueva clase. Una clase es como una plantilla que luego nos servirá para crear objetos. \n",
    " #0.5  \n",
    "    def __init__(self):                                      # Hemos iniciado la clase TiendaOnline: el golem ha cobrado vida. \n",
    "        \n",
    "        self.inventory = []                                  #el primer atributo de la clase será una lista vacia de diccionarios. Cada diccionario va a representar un producto. Claves: nombre, precio y cantidad de productos.  \n",
    "        self.customers = {}                                  #el segundo atributo de nuestra clase será un diccionario vacio. Cada clave de este diccionario será el nombre del cliente, su email e historial de las compras. \n",
    "        self.total_sales = 0.0                                #el tercer atributo será un número de tipo float para llevar un registro de las ventas totales de la tienda. Lo he inicializado con valor 0. \n",
    " #1   \n",
    "    def add_product(self, name, price, quantity):            #con este método vamos a a) agregar un producto al inventario, o b) si el producto ya está, pues actualizar la cantidad. \n",
    "        \n",
    "        new_product = {\"name\": name, \"price\": price, \"quantity\": quantity} # Creamos un diccionario y recibe el nombre, precio y cantidad del producto como parámetros\n",
    "        \n",
    "        for product in self.inventory:                      #Itera a través del inventario y compara los nombres de los productos con el nombre proporcionado\n",
    "          if product[\"name\"] == name:\n",
    "            product [\"quantity\"] += quantity                 #Si el producto ya existe, actualiza la cantidad y nos la devuelve para guardarla con \"return.\" Se cierra la funcion. \n",
    "            return self.inventory\n",
    "        self.inventory.append(new_product)                  #Si no existe, el programa sigue iterando, y agrega un nuevo producto al inventario - se utiliza el operador .append \n",
    "        \n",
    " #2   \n",
    "    def see_inventory(self):                                #Muestra el inventario de productos con sus detalles.\n",
    "        \n",
    "        for product in self.inventory:                       #Itera a través del inventario utilizando el bucle for \n",
    "            print(f\"Name: {product['name']}, Price: ${product['price']}, Quantity: {product['quantity']}\") #Utilizamos print porque solamente queremos ver esta información en la pantalla. \n",
    " #3   \n",
    "    def look_for_product (self, name):                       #Busca un producto en el inventario por nombre y muestra sus detalles.\n",
    "        \n",
    "        for product in self.inventory:                       #Itera a traves del inventario utilizando el bucle for\n",
    "          if product[\"name\"] == name:\n",
    "            print(f\"Name: {product ['name']}, Price: ${product['price']}, Quantity: {product['quantity']}\")\n",
    "            return                                            #Salimos del bucle si encontramos el producto\n",
    "        print(f\"The product {name} can't be found in stock.\") #Si no encontramos el producto, imprimimos el mensaje que no se encontró en el inventario. \n",
    " #4   \n",
    "    def update_stock (self, name, quantity):\n",
    "        product_found = False\n",
    "       \n",
    "        for product in self.inventory:                         #Esta línea inicia un bucle for que recorre cada elemento (producto) dentro de la lista self.inventory.\n",
    "          if product [\"name\"] == name:                         #Esta condición if verifica si el atributo name (nombre) del producto actual coincide con el name que se pasó a la función\n",
    "            product ['quantity'] += quantity                   #Si el nombre coincide, entonces actualizamos el atributo quantity (cantidad) del producto encontrado sumándole la quantity especificada.\n",
    "            product_found = True\n",
    "            print(f\"Updated stock for '{name}': {product['quantity']} units.\")\n",
    "            return\n",
    "          \n",
    "        if not product_found:\n",
    "         print(f\"The product '{name}' can't be found in stock.\")\n",
    "#5 \n",
    "    def remove_product (self, name):\n",
    "        \n",
    "        for product in self.inventory:                       #Esta linea inicia un bucle for que recorre cada elemento (producto) dentro de la lista self.inventory.\n",
    "          if product [\"name\"] == name:                       #Esta condición if verifica si el atributo name (nombre) del producto actual coincide con el name que se pasó a la función\n",
    "            self.inventory.remove (product)                  #Si el nombre coincide, entonces borramos el producto del inventario utilizando el operador remove. \n",
    "            print (f\"The product {name} has been removed from stock.\") \n",
    "            return \n",
    "          \n",
    "        \n",
    " #6   \n",
    "    def calculate_inventory_value (self):\n",
    "        \n",
    "        total_value = 0                                     #Definimos el variable valor total, que empieza como un int = 0\n",
    "        for product in self.inventory:\n",
    "          product_value = product ['price'] * product ['quantity'] #Esta línea calcula el valor total de un producto multiplicando su precio por su cantidad. El resultado se almacena en la variable product_value\n",
    "          total_value += product_value                             #Esta línea suma el product_value calculado en el paso anterior al total_value. Esto se hace para acumular el valor total de todos los productos en el inventario.\n",
    "        print (f\"Total inventory value is: $ {total_value}\")\n",
    "        return \n",
    "#7  \n",
    "    def buy_product(self):\n",
    "        shopping_cart = {}  # This will store the product and its quantity\n",
    "        total_price = 0\n",
    "\n",
    "        while True:\n",
    "            self.see_inventory()  # Show the current inventory\n",
    "            buy_product = input(\"Insert product name (or type 'leave' to exit): \").strip()\n",
    "\n",
    "            if buy_product.lower() == \"leave\":\n",
    "                break  # Exit the loop if the user types 'leave'\n",
    "\n",
    "        # Check if the product exists in the inventory\n",
    "            \n",
    "            for product in self.inventory:\n",
    "                if buy_product == product[\"name\"]:\n",
    "                    product_found = True\n",
    "                    buy_quantity_str = input(f\"Insert quantity for {buy_product}: \").strip()\n",
    "\n",
    "                # Check if the quantity is a valid integer\n",
    "                try:\n",
    "                    buy_quantity = int(buy_quantity_str)\n",
    "                except ValueError:\n",
    "                    print(\"Invalid quantity. Please enter a number.\")\n",
    "                    continue  # Skip to the next iteration of the loop\n",
    "\n",
    "                if buy_quantity <= 0:\n",
    "                    print(\"Please enter a positive quantity.\")\n",
    "                    continue\n",
    "\n",
    "                if product[\"quantity\"] >= buy_quantity:  # Check if there’s enough stock\n",
    "                    # If the product is already in the cart, just update the quantity\n",
    "                    if buy_product in shopping_cart:\n",
    "                        shopping_cart[buy_product][\"quantity\"] += buy_quantity\n",
    "                    else:\n",
    "                        shopping_cart[buy_product] = {\n",
    "                            \"quantity\": buy_quantity,\n",
    "                            \"price\": product[\"price\"]\n",
    "                        }\n",
    "\n",
    "                    # Update total price\n",
    "                    total_price += product[\"price\"] * buy_quantity\n",
    "\n",
    "                    # Decrease the inventory\n",
    "                    product[\"quantity\"] -= buy_quantity\n",
    "                    print(f\"{buy_quantity} {buy_product} added to your cart.\")\n",
    "                    break  # Exit the for loop after adding the product\n",
    "                else:\n",
    "                    print(f\"Not enough stock for {buy_product}. Available: {product['quantity']}\")\n",
    "\n",
    "        if not product_found:\n",
    "            print(f\"Product '{buy_product}' not found in inventory.\")\n",
    "\n",
    "        print(f\"Shopping cart: {shopping_cart}\")\n",
    "        print(f\"Total price: ${total_price}\")\n",
    "        return shopping_cart, total_price\n",
    "\n",
    "\n",
    " #8                   \n",
    "    def process_payment(self):                              #procesa el pago de una compra\n",
    "        \n",
    "        try:                                                #el bloque try...except para manejar excepciones\n",
    "          \n",
    "         total_purchase = float(input(\"Insert total purchase: $\")) #Solicita al cliente con un input el total que tiene que pagar\n",
    "         paid_quantity= float(input(\"Insert paid quantity: $\"))    #Solicita al cliente un input de la cantidad que va a pagar\n",
    "         \n",
    "         if paid_quantity < total_purchase:\n",
    "            print(\"The quantity of money you provided is not enough to cover the total cost of the purchase.\")\n",
    "         else:\n",
    "            change = paid_quantity - total_purchase             #Calcula el cambio y muestra el pago exitoso\n",
    "            print(f\"Your payment has been processed and here is your change: ${change}\")\n",
    "            print(\"Thank you for your purchase!\")\n",
    "            \n",
    "        except:\n",
    "         print(\"There has been an unexpected error. Please try again.\")\n",
    "        \n",
    "   \n",
    "#9\n",
    "    def add_customer(self, name, email):\n",
    "        if name in self.customers:\n",
    "            print(f\"The customer {name} already exists.\")\n",
    "            return\n",
    "        new_customer = {'email': email, 'purchases': []}\n",
    "        self.customers[name] = new_customer\n",
    "        print(f\"The customer {name} has been added successfully.\")\n",
    "       \n",
    "#10       \n",
    "    def see_customers (self):                          #Muestra la lista de clientes registrados con sus nombres y correos electrónicos\n",
    "        if not self.customers:\n",
    "            print(\"No customers in the system.\")\n",
    "        else:\n",
    "            for name, details in self.customers.items():\n",
    "                print(f\"Name: {name}, Email: {details['email']}, Purchases: {details['purchases']}\")\n",
    "          \n",
    " #11   \n",
    "    def register_purchase(self, customer_name):\n",
    "        if customer_name not in self.customers:\n",
    "            print(f\"The purchase cannot be performed. The customer {customer_name} is not registered.\")\n",
    "            return\n",
    "\n",
    "    # Get the shopping cart and total price from buy_product\n",
    "        shopping_cart, total_purchase = self.buy_product()\n",
    "\n",
    "        if not shopping_cart:  # If the cart is empty, no purchase is made\n",
    "            print(\"No items were added to the cart.\")\n",
    "            return\n",
    "\n",
    "    # Register the purchase for the customer\n",
    "        for product_name, product_info in shopping_cart.items():\n",
    "        # Append the product details to the customer's purchase history\n",
    "            self.customers[customer_name][\"purchases\"].append({\n",
    "            \"product\": product_name,\n",
    "            \"quantity\": product_info[\"quantity\"],\n",
    "            \"price\": product_info[\"price\"],\n",
    "            \"total\": product_info[\"price\"] * product_info[\"quantity\"]\n",
    "        })\n",
    "\n",
    "    # Update total sales\n",
    "        self.total_sales += total_purchase\n",
    "        print(f\"The purchase has been registered. Total: ${total_purchase}\")\n",
    "\n",
    "\n",
    "\n",
    " #12      \n",
    "    def see_customer_purchase (self, customer_name): #Muestra las compras realizadas por el cliente, incluyendo detalles de productos y totales.\n",
    "        \n",
    "        if customer_name not in self.customers:\n",
    "         print (f\"The action cannot be performed. The customer {customer_name} is not registered.\")\n",
    "         return\n",
    "         \n",
    "\n",
    "        purchase_history = self.customers[customer_name][\"purchases\"]\n",
    "        \n",
    "        if not purchase_history:\n",
    "            print(f\"{customer_name} has no registered purchases.\")\n",
    "            return\n",
    "        \n",
    "        for purchase in purchase_history:\n",
    "          for product, details in purchase ['products'].items():\n",
    "           print(f\"Product: {product} - Price: ${details['price']} - Quantity: {details['quantity']} - Total: ${details['total']}\")\n",
    " #13          \n",
    "    def calculate_total_sales(self):\n",
    "        \n",
    "        total_sales = 0\n",
    "     \n",
    "        for customer in self.customers.values()():\n",
    "           for purchase in customer ['purchases']:  # Iterate over the 'purchases' list\n",
    "            self.total_sales += purchase['total']\n",
    "        print(f\"Total shop sales: ${self.total_sales}\")\n",
    "          \n",
    "        \n",
    "        \n",
    " \n",
    " \n",
    "  "
   ]
  },
  {
   "cell_type": "markdown",
   "metadata": {},
   "source": [
    "# CLASS METHOD TESTING: ONLINE SHOP "
   ]
  },
  {
   "cell_type": "code",
   "execution_count": 85,
   "metadata": {},
   "outputs": [],
   "source": [
    "#0.5 \n",
    "\n",
    "Hogwarts_Houses_Socks = OnlineShop ()"
   ]
  },
  {
   "cell_type": "code",
   "execution_count": 86,
   "metadata": {},
   "outputs": [
    {
     "name": "stdout",
     "output_type": "stream",
     "text": [
      "[{'name': 'Gryffindor socks', 'price': 14.0, 'quantity': 2}, {'name': 'Slytherin socks', 'price': 13.0, 'quantity': 3}, {'name': 'Ravenclaw socks', 'price': 12.0, 'quantity': 1}, {'name': 'Hufflepuff socks', 'price': 11.0, 'quantity': 4}, {'name': 'Hogwarts crest socks', 'price': 15.0, 'quantity': 20}]\n"
     ]
    }
   ],
   "source": [
    "#1\n",
    "\n",
    "Hogwarts_Houses_Socks.add_product(\"Gryffindor socks\", 14.0, 2)\n",
    "Hogwarts_Houses_Socks.add_product(\"Slytherin socks\", 13.0, 3)\n",
    "Hogwarts_Houses_Socks.add_product(\"Ravenclaw socks\", 12.0, 1)\n",
    "Hogwarts_Houses_Socks.add_product(\"Hufflepuff socks\", 11.0, 4)\n",
    "Hogwarts_Houses_Socks.add_product(\"Hogwarts crest socks\", 15.0, 20)\n",
    "\n",
    "print (Hogwarts_Houses_Socks.inventory)"
   ]
  },
  {
   "cell_type": "code",
   "execution_count": 87,
   "metadata": {},
   "outputs": [
    {
     "name": "stdout",
     "output_type": "stream",
     "text": [
      "Name: Gryffindor socks, Price: $14.0, Quantity: 2\n",
      "Name: Slytherin socks, Price: $13.0, Quantity: 3\n",
      "Name: Ravenclaw socks, Price: $12.0, Quantity: 1\n",
      "Name: Hufflepuff socks, Price: $11.0, Quantity: 4\n",
      "Name: Hogwarts crest socks, Price: $15.0, Quantity: 20\n"
     ]
    }
   ],
   "source": [
    "#2 \n",
    "\n",
    "Hogwarts_Houses_Socks.see_inventory ()\n"
   ]
  },
  {
   "cell_type": "code",
   "execution_count": 88,
   "metadata": {},
   "outputs": [
    {
     "name": "stdout",
     "output_type": "stream",
     "text": [
      "Name: Hufflepuff socks, Price: $11.0, Quantity: 4\n",
      "The product Dumbledore's socks can't be found in stock.\n"
     ]
    }
   ],
   "source": [
    "#3 \n",
    "\n",
    "Hogwarts_Houses_Socks.look_for_product (\"Hufflepuff socks\")\n",
    "Hogwarts_Houses_Socks.look_for_product (\"Dumbledore's socks\")"
   ]
  },
  {
   "cell_type": "code",
   "execution_count": 89,
   "metadata": {},
   "outputs": [
    {
     "name": "stdout",
     "output_type": "stream",
     "text": [
      "Updated stock for 'Hufflepuff socks': 14 units.\n",
      "The product 'Dumbledore's socks' can't be found in stock.\n"
     ]
    }
   ],
   "source": [
    "#4 \n",
    "\n",
    "Hogwarts_Houses_Socks.update_stock(\"Hufflepuff socks\", 10)\n",
    "Hogwarts_Houses_Socks.update_stock(\"Dumbledore's socks\", 10)\n"
   ]
  },
  {
   "cell_type": "code",
   "execution_count": 90,
   "metadata": {},
   "outputs": [
    {
     "name": "stdout",
     "output_type": "stream",
     "text": [
      "The product Slytherin socks has been removed from stock.\n"
     ]
    }
   ],
   "source": [
    "#5 \n",
    "\n",
    "Hogwarts_Houses_Socks.remove_product(\"Slytherin socks\")"
   ]
  },
  {
   "cell_type": "code",
   "execution_count": 91,
   "metadata": {},
   "outputs": [
    {
     "name": "stdout",
     "output_type": "stream",
     "text": [
      "Total inventory value is: $ 494.0\n"
     ]
    }
   ],
   "source": [
    "#6 \n",
    "\n",
    "Hogwarts_Houses_Socks.calculate_inventory_value()"
   ]
  },
  {
   "cell_type": "code",
   "execution_count": 92,
   "metadata": {},
   "outputs": [
    {
     "name": "stdout",
     "output_type": "stream",
     "text": [
      "Name: Gryffindor socks, Price: $14.0, Quantity: 2\n",
      "Name: Ravenclaw socks, Price: $12.0, Quantity: 1\n",
      "Name: Hufflepuff socks, Price: $11.0, Quantity: 14\n",
      "Name: Hogwarts crest socks, Price: $15.0, Quantity: 20\n",
      "There isn't enough quantity of Hogwarts crest socks to add 1 to your cart.\n",
      "Name: Gryffindor socks, Price: $14.0, Quantity: 2\n",
      "Name: Ravenclaw socks, Price: $12.0, Quantity: 1\n",
      "Name: Hufflepuff socks, Price: $11.0, Quantity: 14\n",
      "Name: Hogwarts crest socks, Price: $15.0, Quantity: 20\n",
      "There isn't enough quantity of Gryffindor socks  to add 1 to your cart.\n",
      "Name: Gryffindor socks, Price: $14.0, Quantity: 2\n",
      "Name: Ravenclaw socks, Price: $12.0, Quantity: 1\n",
      "Name: Hufflepuff socks, Price: $11.0, Quantity: 14\n",
      "Name: Hogwarts crest socks, Price: $15.0, Quantity: 20\n"
     ]
    },
    {
     "ename": "ValueError",
     "evalue": "invalid literal for int() with base 10: ''",
     "output_type": "error",
     "traceback": [
      "\u001b[0;31m---------------------------------------------------------------------------\u001b[0m",
      "\u001b[0;31mValueError\u001b[0m                                Traceback (most recent call last)",
      "Cell \u001b[0;32mIn[92], line 3\u001b[0m\n\u001b[1;32m      1\u001b[0m \u001b[38;5;66;03m#7 \u001b[39;00m\n\u001b[0;32m----> 3\u001b[0m \u001b[43mHogwarts_Houses_Socks\u001b[49m\u001b[38;5;241;43m.\u001b[39;49m\u001b[43mbuy_product\u001b[49m\u001b[43m \u001b[49m\u001b[43m(\u001b[49m\u001b[43m)\u001b[49m\n",
      "Cell \u001b[0;32mIn[38], line 78\u001b[0m, in \u001b[0;36mOnlineShop.buy_product\u001b[0;34m(self)\u001b[0m\n\u001b[1;32m     74\u001b[0m \u001b[38;5;28;01mif\u001b[39;00m buy_product \u001b[38;5;241m==\u001b[39m \u001b[38;5;124m\"\u001b[39m\u001b[38;5;124mleave\u001b[39m\u001b[38;5;124m\"\u001b[39m:\n\u001b[1;32m     75\u001b[0m   \u001b[38;5;28;01mbreak\u001b[39;00m \n\u001b[0;32m---> 78\u001b[0m buy_quantity \u001b[38;5;241m=\u001b[39m \u001b[38;5;28;43mint\u001b[39;49m\u001b[43m(\u001b[49m\u001b[38;5;28;43minput\u001b[39;49m\u001b[43m(\u001b[49m\u001b[38;5;124;43m\"\u001b[39;49m\u001b[38;5;124;43mInsert product quantity\u001b[39;49m\u001b[38;5;124;43m\"\u001b[39;49m\u001b[43m)\u001b[49m\u001b[43m)\u001b[49m\n\u001b[1;32m     80\u001b[0m product_found \u001b[38;5;241m=\u001b[39m \u001b[38;5;28;01mFalse\u001b[39;00m  \n\u001b[1;32m     81\u001b[0m \u001b[38;5;28;01mfor\u001b[39;00m product \u001b[38;5;129;01min\u001b[39;00m \u001b[38;5;28mself\u001b[39m\u001b[38;5;241m.\u001b[39m inventory:\n",
      "\u001b[0;31mValueError\u001b[0m: invalid literal for int() with base 10: ''"
     ]
    }
   ],
   "source": [
    "#7 \n",
    "\n",
    "Hogwarts_Houses_Socks.buy_product ()\n"
   ]
  },
  {
   "cell_type": "code",
   "execution_count": null,
   "metadata": {},
   "outputs": [],
   "source": [
    "#8 \n",
    "\n",
    "Hogwarts_Houses_Socks.process_payment()\n",
    "\n"
   ]
  },
  {
   "cell_type": "code",
   "execution_count": null,
   "metadata": {},
   "outputs": [],
   "source": [
    "#9 \n",
    "\n",
    "Hogwarts_Houses_Socks.add_customer(\"Harry Potter\", \"harry@hogwarts.com\")\n",
    "Hogwarts_Houses_Socks.add_customer(\"Hermione Granger\", \"hermione@hogwarts.com\")\n",
    "Hogwarts_Houses_Socks.add_customer(\"Ron Weasley\", \"ron@hogwarts.com\")\n",
    "Hogwarts_Houses_Socks.add_customer(\"Luna Lovegood\", \"luna@hogwarts.com\")\n",
    "Hogwarts_Houses_Socks.add_customer(\"Draco Malfoy\", \"draco@hogwarts.com\")\n",
    "\n",
    "print(Hogwarts_Houses_Socks.customers)"
   ]
  },
  {
   "cell_type": "code",
   "execution_count": null,
   "metadata": {},
   "outputs": [],
   "source": [
    "#10 \n",
    "\n",
    "Hogwarts_Houses_Socks.see_customers()"
   ]
  },
  {
   "cell_type": "code",
   "execution_count": null,
   "metadata": {},
   "outputs": [],
   "source": [
    "#11 \n",
    "\n",
    "Hogwarts_Houses_Socks.register_purchase(\"Harry Potter\")"
   ]
  },
  {
   "cell_type": "code",
   "execution_count": null,
   "metadata": {},
   "outputs": [],
   "source": [
    "#12 \n",
    "\n",
    "Hogwarts_Houses_Socks.see_customer_purchase(\"Harry Potter\")\n"
   ]
  },
  {
   "cell_type": "code",
   "execution_count": null,
   "metadata": {},
   "outputs": [],
   "source": [
    "#13\n",
    "\n",
    "Hogwarts_Houses_Socks.calculate_total_sales()"
   ]
  }
 ],
 "metadata": {
  "kernelspec": {
   "display_name": "Python 3",
   "language": "python",
   "name": "python3"
  },
  "language_info": {
   "codemirror_mode": {
    "name": "ipython",
    "version": 3
   },
   "file_extension": ".py",
   "mimetype": "text/x-python",
   "name": "python",
   "nbconvert_exporter": "python",
   "pygments_lexer": "ipython3",
   "version": "3.11.1"
  }
 },
 "nbformat": 4,
 "nbformat_minor": 2
}
